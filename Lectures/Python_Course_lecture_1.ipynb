{
 "cells": [
  {
   "cell_type": "markdown",
   "metadata": {
    "slideshow": {
     "slide_type": "slide"
    }
   },
   "source": [
    "![Python](https://upload.wikimedia.org/wikipedia/commons/thumb/f/f8/Python_logo_and_wordmark.svg/2000px-Python_logo_and_wordmark.svg.png \"Python\")\n",
    "A course by Johan van de Koppel  \n",
    "September 2018  \n",
    "Royal Netherlands Institute of Sea Research\n",
    "\n",
    "![Console](Images/All_Logos.png \"Console\")"
   ]
  },
  {
   "cell_type": "markdown",
   "metadata": {
    "slideshow": {
     "slide_type": "slide"
    }
   },
   "source": [
    "# Aims of this course\n",
    "- Not a course in programming (OK maybe a little)\n",
    "- Not an alternative to R (OK it could be, but a bad one)\n",
    "- But: A course to explain Python to Matlab users  \n",
    "  => Knowledge of simulation in Matlab is presumed (but not totally)"
   ]
  },
  {
   "cell_type": "markdown",
   "metadata": {
    "slideshow": {
     "slide_type": "slide"
    }
   },
   "source": [
    "# Why Python in stead of Matlab?\n",
    "\n",
    "### Matlab is:\n",
    "- Better organized\n",
    "- Better documented\n",
    "- Faster (slightly)\n",
    "- A licensing headache\n",
    "\n",
    "### Python :\n",
    "- Free for anyone\n",
    "- Free on any computer\n",
    "- Free to develop further\n",
    "- More versatile"
   ]
  },
  {
   "cell_type": "markdown",
   "metadata": {
    "slideshow": {
     "slide_type": "slide"
    }
   },
   "source": [
    "# Disclaimer\n",
    "- I am by no means a expert in Python!\n",
    "\n",
    "- I am learning it as much as you are.\n",
    "\n",
    "- Lets learn together!\n",
    "  * Assignments  \n",
    "  * Challenges (make one yourself)  \n",
    "  \n",
    "- Lets build a collection of codes on GitHub or Zeus!"
   ]
  },
  {
   "cell_type": "markdown",
   "metadata": {
    "slideshow": {
     "slide_type": "slide"
    }
   },
   "source": [
    "# Today’s agenda\n",
    "- What is Python\n",
    "- A history of Python\n",
    "- Integrated Development Environments (IDEs: Spyder or Jupyter)   \n",
    "- Basic Syntax\n",
    "- Installing Anaconda\n",
    "- Running a python program via Spyder\n",
    "- Running a ipython notebook via Jupyter\n",
    "- Working through a first model\n",
    "- The challenges"
   ]
  },
  {
   "cell_type": "markdown",
   "metadata": {
    "slideshow": {
     "slide_type": "slide"
    }
   },
   "source": [
    "# About Python\n",
    "- A scripting language, or script “interpreter”  \n",
    "  (a program, called the “console”, reads your code and executes it)  \n",
    "- Object-oriented (i.e. a modern programming language)  \n",
    "- Indentation for used de separate programming blocks  \n",
    "- Computer-Agnostic (runs on anything that runs python)  "
   ]
  },
  {
   "cell_type": "markdown",
   "metadata": {
    "slideshow": {
     "slide_type": "slide"
    }
   },
   "source": [
    "# Differences between a programming and a scripting language \n",
    "\n",
    "### Programming language\n",
    "- a program is compiled from the code (in machine instructions)\n",
    "- A \"program\" in general, is a sequence of instructions written so that a computer can perform certain task. \n",
    "\n",
    "### Scripting language\n",
    "- a script is interpreted \n",
    "- a \"script\" is code written in a scripting language: a code that is executed by some software application (the - python console). "
   ]
  },
  {
   "cell_type": "markdown",
   "metadata": {
    "slideshow": {
     "slide_type": "slide"
    }
   },
   "source": [
    "<head>\n",
    "<style>\n",
    "table, th, td {\n",
    "    border: 0px solid white;\n",
    "}\n",
    "</style>\n",
    "</head>\n",
    "\n",
    "# A history of Python\n",
    "\n",
    "<img src=\"https://upload.wikimedia.org/wikipedia/commons/thumb/6/66/Guido_van_Rossum_OSCON_2006.jpg/800px-Guido_van_Rossum_OSCON_2006.jpg\" width=\"250\" align=\"center\" />\n",
    "        \n",
    "<ul style=\"font-size:1o0%;\">\n",
    "    <li>Invented in the Netherlands, in the late 80s, by Guido van Rossum</li>\n",
    "    <li>Name comes from ‘Monty Python’s Flying Circus’, a famous 60s-70s TV show</li>\n",
    "    <li>Guido van Rossum called “Benevolent Dictator for Life (BDFL)” by the Python community (wikipedia)</li>\n",
    "</ul>\n"
   ]
  },
  {
   "cell_type": "markdown",
   "metadata": {
    "slideshow": {
     "slide_type": "slide"
    }
   },
   "source": [
    "# Two versions, 2.7 and 3.7 (latest)\n",
    "- As any good scientist should, Guido figured that he didn’t design Python perfectly (and future proof).\n",
    "- In 2008, Python 3.0, a major, backwards-incompatible version, was released.   \n",
    "  * V 2.7: print “Hello World!”\n",
    "  * V 3.x: print(“Hello World!”)\n",
    "\n",
    "- Many didn’t want this, because old code libraries were useless."
   ]
  },
  {
   "cell_type": "markdown",
   "metadata": {
    "slideshow": {
     "slide_type": "slide"
    }
   },
   "source": [
    "# Barebone Python\n",
    "![Console](Images/PythonConsole.png \"Console\")"
   ]
  },
  {
   "cell_type": "markdown",
   "metadata": {
    "slideshow": {
     "slide_type": "slide"
    }
   },
   "source": [
    "# Matlab’s Integrated Development Environment\n",
    "![Console](Images/MatlabIDE.png \"Console\")"
   ]
  },
  {
   "cell_type": "markdown",
   "metadata": {
    "slideshow": {
     "slide_type": "slide"
    }
   },
   "source": [
    "# Spyder\n",
    "![Console](Images/SpyderIDE.png \"Console\")"
   ]
  },
  {
   "cell_type": "markdown",
   "metadata": {
    "slideshow": {
     "slide_type": "slide"
    }
   },
   "source": [
    "# Integrated development environments (IDEs)\n",
    "\n",
    "### Text-editors with code coloring\n",
    "- Vim (very basic)  \n",
    "- Atom  \n",
    "\n",
    "### Basic IDEs  \n",
    "- Idle  \n",
    "- Spyder  \n",
    "\n",
    "### Complex IDE/Environments  \n",
    "- Pycharm (makes new version of python for each project)\n",
    "- PyDev (comes with Eclipse – a Multilanguage system)"
   ]
  },
  {
   "cell_type": "markdown",
   "metadata": {
    "slideshow": {
     "slide_type": "slide"
    }
   },
   "source": [
    "# Environments\n",
    "- You can install multiple versions of Python next to each other\n",
    "- A single copy is called an Environment\n",
    "- Each Python Environment with packages can sit in a folder\n",
    "- You can tell the computer to “activate” another version\n",
    "- Environment/Package management system: pip or conda\n",
    "- To install a package, type in terminal:   \n",
    "    <span style=\"color:blue; font-family:Courier;\">conda install --name myenv numpy</span>  \n",
    "“myenv” is just a name that you give to your environment"
   ]
  },
  {
   "cell_type": "markdown",
   "metadata": {
    "slideshow": {
     "slide_type": "slide"
    }
   },
   "source": [
    "# Anaconda\n",
    "- Anaconda is a package management system with an attached IDE (Spyder) and Notebook system (Jupyter)\n",
    "- It comes with either Python 2.7 or 3.6, but you can install both.\n",
    "- In this course, we will be using Anaconda 5.2 with Python 3.6\n",
    "- https://www.anaconda.com/download\n",
    "- We will use this in this course (it is the most convenient one I know)"
   ]
  },
  {
   "cell_type": "markdown",
   "metadata": {
    "slideshow": {
     "slide_type": "slide"
    }
   },
   "source": [
    "# Anaconda - included applications\n",
    "![Console](Images/AnacondaEnv.png \"Console\")"
   ]
  },
  {
   "cell_type": "markdown",
   "metadata": {
    "slideshow": {
     "slide_type": "slide"
    }
   },
   "source": [
    "# Anaconda - Package environment\n",
    "![Console](Images/AnacondaPack.png \"Console\")"
   ]
  },
  {
   "cell_type": "markdown",
   "metadata": {
    "slideshow": {
     "slide_type": "slide"
    }
   },
   "source": [
    "# Python-console versus iPython-console\n",
    "- Python comes with a barebone console for running single commands or entire scripts\n",
    "- iPython (with Jupyter) is a notebook based console with follows the principle: set of commands – printed result, and does so within a notebook document. It is similar to Mathematica & Latech.\n",
    "\n",
    "- iPython can not run animated simulations. It first simulates, and then produces a result (figure or movie)."
   ]
  },
  {
   "cell_type": "markdown",
   "metadata": {
    "slideshow": {
     "slide_type": "slide"
    }
   },
   "source": [
    "# Python executes from the console\n",
    "![Console](Images/AnacondaMussels.png \"Console\")"
   ]
  },
  {
   "cell_type": "markdown",
   "metadata": {
    "slideshow": {
     "slide_type": "slide"
    }
   },
   "source": [
    "# Python executes from the console\n",
    "![Console](Images/AnacondaMusselsR.png \"Console\")"
   ]
  },
  {
   "cell_type": "markdown",
   "metadata": {
    "slideshow": {
     "slide_type": "slide"
    }
   },
   "source": [
    "# iPython runs in a Jupyter notebook\n",
    "First you give a piece of code in the notebook, and then iPython interprets it and gives the result."
   ]
  },
  {
   "cell_type": "code",
   "execution_count": null,
   "metadata": {},
   "outputs": [],
   "source": [
    "# Importing the packages\n",
    "import numpy as np\n",
    "from matplotlib import pyplot as plt"
   ]
  },
  {
   "cell_type": "code",
   "execution_count": null,
   "metadata": {},
   "outputs": [],
   "source": [
    "# Calculating and plotting y=sin(x^2)\n",
    "x = np.linspace(0, 3, 100)\n",
    "y = np.sin(x*x)\n",
    "f=plt.plot(x,y)"
   ]
  },
  {
   "cell_type": "markdown",
   "metadata": {
    "slideshow": {
     "slide_type": "slide"
    }
   },
   "source": [
    "# Packages\n",
    "- Most code functions sit in Packages or Modules\n",
    "- Often used packages for numerical computing\n",
    "  * numpy – Numerical operations on array operation\n",
    "  * scipy – Many mathematical functions\n",
    "  * Matplotlib – plotting functions\n",
    "\n",
    "- Overview: https://wiki.python.org/moin/UsefulModules\n"
   ]
  },
  {
   "cell_type": "markdown",
   "metadata": {
    "slideshow": {
     "slide_type": "slide"
    }
   },
   "source": [
    "# Importing a package\n",
    "You can import packages containing collections of functions, also called modules, into your code, often allowing you to do a specialized set of operations. One example is the NumPy package (from Numerical Python), that allows you to define arrays and do all sorts of array operations.\n",
    "There are a number of ways to load a package. One way is to load it as a so-called \"object\", which puts the functions that are important in a enclosed block (i.e. object):"
   ]
  },
  {
   "cell_type": "code",
   "execution_count": null,
   "metadata": {
    "slideshow": {
     "slide_type": "-"
    }
   },
   "outputs": [],
   "source": [
    "import numpy as np\n",
    "A = np.sqrt(16)\n",
    "print(A)"
   ]
  },
  {
   "cell_type": "markdown",
   "metadata": {
    "slideshow": {
     "slide_type": "-"
    }
   },
   "source": [
    "You can also just load all the functions into the common \"namespace\", so that they can be used directly. A disadvantage is that separate packages can use the same name, creating a conflict."
   ]
  },
  {
   "cell_type": "code",
   "execution_count": null,
   "metadata": {
    "slideshow": {
     "slide_type": "-"
    }
   },
   "outputs": [],
   "source": [
    "from numpy import *\n",
    "A = sqrt(16)\n",
    "print(A)"
   ]
  },
  {
   "cell_type": "markdown",
   "metadata": {
    "slideshow": {
     "slide_type": "slide"
    }
   },
   "source": [
    "# Installing a package\n",
    "- Very few packages are installed with standard Python\n",
    "- Anaconda does install a lot of packages at install (numpy, scipy, matplotlib, etc)\n",
    "- You can install more from within the Anaconda Navigator\n",
    "- If you want an odd package, you need to install it via the Terminal (Mac OS, Linux) or Command Prompt (Windows)\n",
    "- for this, type in google: conda install \"package name\" for explanation\n",
    "- Or go to: https://anaconda.org"
   ]
  },
  {
   "cell_type": "markdown",
   "metadata": {
    "slideshow": {
     "slide_type": "slide"
    }
   },
   "source": [
    "![Console](Images/Anaconda_Packages.png \"Console\")"
   ]
  },
  {
   "cell_type": "markdown",
   "metadata": {
    "slideshow": {
     "slide_type": "slide"
    }
   },
   "source": [
    "# Variables and types\n"
   ]
  },
  {
   "cell_type": "markdown",
   "metadata": {},
   "source": [
    "In many programming languages, you define *variables*, and then work with these variables to get things done. There are various *types* of variables, and these so-called types we explain here:"
   ]
  },
  {
   "cell_type": "code",
   "execution_count": null,
   "metadata": {},
   "outputs": [],
   "source": [
    "a = 2         # a is of type integer: discrete numbers used for counting\n",
    "b = 1.3       # b is of type float, meaning it can contain continuous variables\n",
    "c = \"Hallo\"   # c is of type string, containing a letter or sentence\n",
    "d = True      # d is of type Boolean, either True or False, used for testing\n",
    "e = [0, 2]    # e is a list, containing numbers. It is NOT an array or matrix \n",
    "f = [1, \"no\"] # f is also a list"
   ]
  },
  {
   "cell_type": "markdown",
   "metadata": {
    "slideshow": {
     "slide_type": "slide"
    }
   },
   "source": [
    "# Operations with variables"
   ]
  },
  {
   "cell_type": "code",
   "execution_count": null,
   "metadata": {},
   "outputs": [],
   "source": [
    "a*b"
   ]
  },
  {
   "cell_type": "code",
   "execution_count": null,
   "metadata": {},
   "outputs": [],
   "source": [
    "print(c + \" John\")"
   ]
  },
  {
   "cell_type": "code",
   "execution_count": null,
   "metadata": {},
   "outputs": [],
   "source": [
    "c + \" \" + str(a)"
   ]
  },
  {
   "cell_type": "code",
   "execution_count": null,
   "metadata": {},
   "outputs": [],
   "source": [
    "c*3"
   ]
  },
  {
   "cell_type": "code",
   "execution_count": null,
   "metadata": {},
   "outputs": [],
   "source": [
    "(c+\" \")*3"
   ]
  },
  {
   "cell_type": "markdown",
   "metadata": {
    "slideshow": {
     "slide_type": "slide"
    }
   },
   "source": [
    "## Oddities with strings"
   ]
  },
  {
   "cell_type": "code",
   "execution_count": null,
   "metadata": {
    "slideshow": {
     "slide_type": "-"
    }
   },
   "outputs": [],
   "source": [
    "word = 'NIOZ'"
   ]
  },
  {
   "cell_type": "code",
   "execution_count": null,
   "metadata": {},
   "outputs": [],
   "source": [
    "word[2]"
   ]
  },
  {
   "cell_type": "code",
   "execution_count": null,
   "metadata": {},
   "outputs": [],
   "source": [
    "word[-1]"
   ]
  },
  {
   "cell_type": "code",
   "execution_count": null,
   "metadata": {},
   "outputs": [],
   "source": [
    "word[0:2]"
   ]
  },
  {
   "cell_type": "code",
   "execution_count": null,
   "metadata": {},
   "outputs": [],
   "source": [
    "word[1:]"
   ]
  },
  {
   "cell_type": "code",
   "execution_count": null,
   "metadata": {},
   "outputs": [],
   "source": [
    "word[0:3]+'O'"
   ]
  },
  {
   "cell_type": "markdown",
   "metadata": {},
   "source": [
    "More about Strings, click [here](https://docs.python.org/3/tutorial/introduction.html#strings) to look at the Python Tutorial."
   ]
  },
  {
   "cell_type": "markdown",
   "metadata": {
    "slideshow": {
     "slide_type": "slide"
    }
   },
   "source": [
    "# Lists"
   ]
  },
  {
   "cell_type": "markdown",
   "metadata": {},
   "source": [
    "A list of comma-separated *items* between square brackets. Lists might have items of different types!"
   ]
  },
  {
   "cell_type": "code",
   "execution_count": null,
   "metadata": {},
   "outputs": [],
   "source": [
    "squares = [1, 4, 9, 16, 25]"
   ]
  },
  {
   "cell_type": "code",
   "execution_count": null,
   "metadata": {},
   "outputs": [],
   "source": [
    "Items = [1, 3.1, 'String', True]"
   ]
  },
  {
   "cell_type": "code",
   "execution_count": null,
   "metadata": {},
   "outputs": [],
   "source": [
    "squares + [3, 5, 2, 5, -1]"
   ]
  },
  {
   "cell_type": "code",
   "execution_count": null,
   "metadata": {},
   "outputs": [],
   "source": [
    "Items*2"
   ]
  },
  {
   "cell_type": "markdown",
   "metadata": {
    "slideshow": {
     "slide_type": "slide"
    }
   },
   "source": [
    "# Arrays, vectors and matrices"
   ]
  },
  {
   "cell_type": "markdown",
   "metadata": {},
   "source": [
    "There is no build-in support for arrays in Python. This ability comes from a package called `Numpy`. Numpy allows you to define vectors (1D), matrices (2D) and larger arrays and calculate with them. Also, it contains a hugh collection of computational functions.\n",
    "\n",
    "`Numpy` has to be loaded as a package, and then an array can be defined:"
   ]
  },
  {
   "cell_type": "code",
   "execution_count": null,
   "metadata": {},
   "outputs": [],
   "source": [
    "import numpy as np\n",
    "A=np.zeros([3,3])\n",
    "A"
   ]
  },
  {
   "cell_type": "markdown",
   "metadata": {},
   "source": [
    "Or, you can assign the values from a list"
   ]
  },
  {
   "cell_type": "code",
   "execution_count": null,
   "metadata": {},
   "outputs": [],
   "source": [
    "A=np.array([[1,2,3],[4,5,6],[7,8,9]])\n",
    "A"
   ]
  },
  {
   "cell_type": "markdown",
   "metadata": {
    "slideshow": {
     "slide_type": "slide"
    }
   },
   "source": [
    "With these, you can compute:"
   ]
  },
  {
   "cell_type": "code",
   "execution_count": null,
   "metadata": {},
   "outputs": [],
   "source": [
    "A*2"
   ]
  },
  {
   "cell_type": "markdown",
   "metadata": {},
   "source": [
    "Or use in a spatial model:"
   ]
  },
  {
   "cell_type": "code",
   "execution_count": null,
   "metadata": {},
   "outputs": [],
   "source": [
    "dA_dt=(1-A/10.0)*A\n",
    "A+dA_dt"
   ]
  },
  {
   "cell_type": "markdown",
   "metadata": {},
   "source": [
    "For more, look at the Numpy website: http://www.numpy.org"
   ]
  },
  {
   "cell_type": "markdown",
   "metadata": {
    "slideshow": {
     "slide_type": "slide"
    }
   },
   "source": [
    "# Classes - Object orientation in Python\n",
    "- Classes provide a means of bundling data and methods (function, procedure). \n",
    "- Creating a new class creates a new type of object, allowing new instances of that type to be made."
   ]
  },
  {
   "cell_type": "code",
   "execution_count": null,
   "metadata": {},
   "outputs": [],
   "source": [
    "class Mussel:\n",
    "    x=0\n",
    "    y=0"
   ]
  },
  {
   "cell_type": "code",
   "execution_count": null,
   "metadata": {},
   "outputs": [],
   "source": [
    "M=Mussel()\n",
    "print('The mussels is at location %1.1f,%1.1f' % (M.x,M.y) )"
   ]
  },
  {
   "cell_type": "code",
   "execution_count": null,
   "metadata": {},
   "outputs": [],
   "source": [
    "import numpy as np\n",
    "class Mussel:\n",
    "    def __init__(self):   # the is a 'method' called when a Mussel is defined\n",
    "        self.x=np.random.rand(1)\n",
    "        self.y=np.random.rand(1)"
   ]
  },
  {
   "cell_type": "code",
   "execution_count": null,
   "metadata": {
    "slideshow": {
     "slide_type": "-"
    }
   },
   "outputs": [],
   "source": [
    "M=Mussel()\n",
    "print('The mussels is at location %1.2f,%1.2f' % (M.x,M.y) )"
   ]
  },
  {
   "cell_type": "code",
   "execution_count": null,
   "metadata": {
    "slideshow": {
     "slide_type": "subslide"
    }
   },
   "outputs": [],
   "source": [
    "import numpy as np\n",
    "class Mussel:\n",
    "    def __init__(self):   # this is a 'method' called when a Mussel is defined\n",
    "        self.x=np.random.rand(1)\n",
    "        self.y=np.random.rand(1)\n",
    "    def distance(self):   # this is a callible 'method' \n",
    "        return np.sqrt(self.x**2+self.y**2)"
   ]
  },
  {
   "cell_type": "code",
   "execution_count": null,
   "metadata": {},
   "outputs": [],
   "source": [
    "M=Mussel()\n",
    "print('The mussels is at location %1.2f,%1.2f, which is at %1.2f cm van the origin' % (M.x,M.y,M.distance()) )"
   ]
  },
  {
   "cell_type": "markdown",
   "metadata": {
    "slideshow": {
     "slide_type": "slide"
    }
   },
   "source": [
    "### Many Python types are actually a class with all sorts of build in methods"
   ]
  },
  {
   "cell_type": "code",
   "execution_count": null,
   "metadata": {},
   "outputs": [],
   "source": [
    "S='This a really really really long string'"
   ]
  },
  {
   "cell_type": "code",
   "execution_count": null,
   "metadata": {},
   "outputs": [],
   "source": [
    "type(S)"
   ]
  },
  {
   "cell_type": "code",
   "execution_count": null,
   "metadata": {},
   "outputs": [],
   "source": [
    "S.__len__()"
   ]
  },
  {
   "cell_type": "code",
   "execution_count": null,
   "metadata": {},
   "outputs": [],
   "source": [
    "S.upper()"
   ]
  },
  {
   "cell_type": "markdown",
   "metadata": {},
   "source": [
    "To know more about the Methods associated with `str` and other standard types, see: https://docs.python.org/3/library/stdtypes.html"
   ]
  },
  {
   "cell_type": "markdown",
   "metadata": {
    "slideshow": {
     "slide_type": "slide"
    }
   },
   "source": [
    "# Condition testing: the `if` statement"
   ]
  },
  {
   "cell_type": "code",
   "execution_count": null,
   "metadata": {
    "slideshow": {
     "slide_type": "-"
    }
   },
   "outputs": [],
   "source": [
    "x = 5.1 # Just assign a number"
   ]
  },
  {
   "cell_type": "code",
   "execution_count": null,
   "metadata": {},
   "outputs": [],
   "source": [
    "if x < 0:\n",
    "    x = 0\n",
    "    print('Negative changed to zero.')\n",
    "elif x == 0:\n",
    "    print('Zero is nothing ...')\n",
    "elif x == 1:\n",
    "    print('Yes one is enough!')\n",
    "else:\n",
    "    print('More than one!')"
   ]
  },
  {
   "cell_type": "markdown",
   "metadata": {
    "slideshow": {
     "slide_type": "slide"
    }
   },
   "source": [
    "# Loops and conditions\n",
    "Loop are an important part of computing. Algoritms are repeated on new data, or repeated (iterated) on the same data.  \n",
    "In classical computing, a loop repeated with increasing some counter (here a MATLAB example):  \n",
    "  \n",
    "`for i=1:5\n",
    "    disp(i);\n",
    "end\n",
    "`"
   ]
  },
  {
   "cell_type": "markdown",
   "metadata": {},
   "source": [
    "In Python:"
   ]
  },
  {
   "cell_type": "code",
   "execution_count": null,
   "metadata": {},
   "outputs": [],
   "source": [
    "for i in range(5):\n",
    "    print(i)"
   ]
  },
  {
   "cell_type": "markdown",
   "metadata": {
    "slideshow": {
     "slide_type": "subslide"
    }
   },
   "source": [
    "In Python, a loop will iterate a **list**, *any list!*"
   ]
  },
  {
   "cell_type": "code",
   "execution_count": null,
   "metadata": {},
   "outputs": [],
   "source": [
    "for i in [2,4.5,'Hallo', True]:\n",
    "    print( type(i) )"
   ]
  },
  {
   "cell_type": "markdown",
   "metadata": {
    "slideshow": {
     "slide_type": "slide"
    }
   },
   "source": [
    "# A nested loop over a unstructured list\n",
    "Imagine a nested database of names, with 3 female and 4 male names. "
   ]
  },
  {
   "cell_type": "code",
   "execution_count": null,
   "metadata": {},
   "outputs": [],
   "source": [
    "Department=[['Yvette','Olga', 'Renee'],['Daan','Geert', 'Roland','Leo']]"
   ]
  },
  {
   "cell_type": "markdown",
   "metadata": {},
   "source": [
    "You can print all using a nested loop:"
   ]
  },
  {
   "cell_type": "code",
   "execution_count": null,
   "metadata": {},
   "outputs": [],
   "source": [
    "for Group in Department:\n",
    "    print(Group)"
   ]
  },
  {
   "cell_type": "code",
   "execution_count": null,
   "metadata": {},
   "outputs": [],
   "source": [
    "for Group in Department:\n",
    "    for Names in Group:\n",
    "        print(Names)"
   ]
  },
  {
   "cell_type": "markdown",
   "metadata": {
    "slideshow": {
     "slide_type": "slide"
    }
   },
   "source": [
    "### So what if you want the item and a counter at the same time? "
   ]
  },
  {
   "cell_type": "code",
   "execution_count": null,
   "metadata": {},
   "outputs": [],
   "source": [
    "for i,Group in enumerate(Department):\n",
    "    print('Group ' + str(i))\n",
    "    for j,Names in enumerate(Group):\n",
    "        print(' ' + str(j) + ' - ' + Names)"
   ]
  },
  {
   "cell_type": "markdown",
   "metadata": {
    "slideshow": {
     "slide_type": "slide"
    }
   },
   "source": [
    "# A conditional loop\n",
    "Sometimes you don't want a loop to run a specific number of times, but rather until a condition is met. For this, there is the `while` loop:"
   ]
  },
  {
   "cell_type": "code",
   "execution_count": null,
   "metadata": {},
   "outputs": [],
   "source": [
    "i=0\n",
    "while i<5:\n",
    "    print(i)\n",
    "    i=i+1"
   ]
  },
  {
   "cell_type": "markdown",
   "metadata": {
    "slideshow": {
     "slide_type": "slide"
    }
   },
   "source": [
    "## `break` and `continue` statements\n",
    "`break` stops the loop entirely."
   ]
  },
  {
   "cell_type": "code",
   "execution_count": null,
   "metadata": {},
   "outputs": [],
   "source": [
    "for i in range(5):\n",
    "    if i==3:\n",
    "        break\n",
    "    print(i)"
   ]
  },
  {
   "cell_type": "markdown",
   "metadata": {},
   "source": [
    "`continue` skips the current iteration and goes to the next."
   ]
  },
  {
   "cell_type": "code",
   "execution_count": null,
   "metadata": {},
   "outputs": [],
   "source": [
    "for i in range(5):\n",
    "    if i==3:\n",
    "        continue\n",
    "    print(i)"
   ]
  },
  {
   "cell_type": "markdown",
   "metadata": {
    "slideshow": {
     "slide_type": "slide"
    }
   },
   "source": [
    "# Functions\n",
    "In Python, you can define your own procedures (do not return a value) and functions (returns a value):"
   ]
  },
  {
   "cell_type": "code",
   "execution_count": null,
   "metadata": {},
   "outputs": [],
   "source": [
    "def Fibonacci(n):    # write Fibonacci series up to n\n",
    "    \"\"\"Print a Fibonacci series up to n.\"\"\"\n",
    "    a, b = 0, 1\n",
    "    while a < n:\n",
    "        print(a),\n",
    "        a, b = b, a+b"
   ]
  },
  {
   "cell_type": "code",
   "execution_count": null,
   "metadata": {},
   "outputs": [],
   "source": [
    "Fibonacci(20)"
   ]
  },
  {
   "cell_type": "code",
   "execution_count": null,
   "metadata": {
    "slideshow": {
     "slide_type": "slide"
    }
   },
   "outputs": [],
   "source": [
    "def dN_dt(N):           # A function for the logistic growth equation\n",
    "    return (1-N)*N"
   ]
  },
  {
   "cell_type": "code",
   "execution_count": null,
   "metadata": {},
   "outputs": [],
   "source": [
    "dN_dt(0.6)"
   ]
  },
  {
   "cell_type": "code",
   "execution_count": null,
   "metadata": {},
   "outputs": [],
   "source": [
    "def Product(X,Y):\n",
    "    return X*Y\n",
    "\n",
    "10 + Product(4,3)"
   ]
  },
  {
   "cell_type": "markdown",
   "metadata": {
    "slideshow": {
     "slide_type": "slide"
    }
   },
   "source": [
    "# Plotting\n",
    "\n",
    "If you want to plot something in Python, you first have to load a plotting library (or package). The most commonly used library is `Matplotlib', which contains many MATLAB like plotting functions. So first, we have to load Matplotlib"
   ]
  },
  {
   "cell_type": "code",
   "execution_count": null,
   "metadata": {},
   "outputs": [],
   "source": [
    "import matplotlib.pyplot as plt\n",
    "import numpy as np\n",
    "%matplotlib inline"
   ]
  },
  {
   "cell_type": "markdown",
   "metadata": {},
   "source": [
    "Define some variables to plot:"
   ]
  },
  {
   "cell_type": "code",
   "execution_count": null,
   "metadata": {},
   "outputs": [],
   "source": [
    "N=np.linspace(0,1,100)  # an array of numbers from 0 to 1 in 100 steps\n",
    "dN=dN_dt(N)             # put the growth per N value in a second array of numbers"
   ]
  },
  {
   "cell_type": "markdown",
   "metadata": {
    "slideshow": {
     "slide_type": "slide"
    }
   },
   "source": [
    "### Then open a figure:"
   ]
  },
  {
   "cell_type": "code",
   "execution_count": null,
   "metadata": {},
   "outputs": [],
   "source": [
    "fig, ax = plt.subplots(1, 1, figsize=(8, 6))\n",
    "f=ax.plot(N,dN,'b-')\n",
    "f=ax.set_xlabel('Population size N')\n",
    "f=ax.set_ylabel('Population growth rate')"
   ]
  },
  {
   "cell_type": "markdown",
   "metadata": {
    "slideshow": {
     "slide_type": "slide"
    }
   },
   "source": [
    "<img src='Images/Matplotlib_Gallery.png' width=\"90%\">"
   ]
  },
  {
   "cell_type": "markdown",
   "metadata": {
    "slideshow": {
     "slide_type": "slide"
    }
   },
   "source": [
    "# This course\n",
    "1 Introduction to programming in Python and iPython  \n",
    "2 ODE models  \n",
    "3 Spatial models  \n",
    "4 IBM models  \n",
    "5 Integration with other languages (C++, OpenCl)  \n",
    "6 Data handling, GIS, data pipelines  \n",
    "7 Machine learning (proposed Guest Lecture)  \n",
    "8 Python on the NIOZ Cluster"
   ]
  },
  {
   "cell_type": "markdown",
   "metadata": {
    "slideshow": {
     "slide_type": "slide"
    }
   },
   "source": [
    "# The following course days\n",
    "- First a short lecture about the type of models for that day (20 min max)\n",
    "- Then practice yourself with the Jupyter scrip\n",
    "- Assign new challenges\n",
    "- Present last course days challenges"
   ]
  },
  {
   "cell_type": "markdown",
   "metadata": {
    "slideshow": {
     "slide_type": "slide"
    }
   },
   "source": [
    "# Practical for today\n",
    "\n",
    "### Install Anaconda https://www.anaconda.com/download\n",
    "- In anaconda, install spider version 3.1. From 3.2 onwards, standard python has been removed from Spyder. In the corner of the Spyder icon there is a “rotor” icon that allows you to install an older version of python.   \n",
    "\n",
    "### Test Spyder\n",
    "- Open Spyder\n",
    "- Open the file “1 - Logistic growth.py” (see Dropbox)\n",
    "- Run the program in the Python console and in the iPython console\n",
    "\n",
    "### Test Jupyter\n",
    "- Launch Jupyter\n",
    "- Open the file “1 - Logistic growth.ipynb”\n",
    "- Run it by repeatedly clicking on the “Run” button.\n",
    "- Play with the parameters, for instance put the growth rate r gradually to 3.\n",
    "- Study the notebook"
   ]
  },
  {
   "cell_type": "markdown",
   "metadata": {
    "slideshow": {
     "slide_type": "slide"
    }
   },
   "source": [
    "# Challenges\n",
    "\n",
    "Challenge 1: Bioeconomic modelling of fisheries  \n",
    "Challenge 2: Two-phase mosaics in grazing systems  \n",
    "Challenge 3: The Logistic Map  \n",
    "Challenge 4: Catastrophe theory & catastrophe folds  \n",
    "Challenge 5: How long does it take to reach the bottom of the ocean  \n",
    "Challenge 6: Your idea"
   ]
  },
  {
   "cell_type": "markdown",
   "metadata": {
    "slideshow": {
     "slide_type": "slide"
    }
   },
   "source": [
    "# Challenge 1: Bioeconomic modelling of fisheries\n",
    "\n",
    "Expand the \"2 - Natural resource modelling.ipynb\" notebook to include how human fisheries effects the dynamics of a natural resource population (e.g., the fish). Include   \n",
    "1) uncontrolled fisheries,  \n",
    "2) quotum-based fisheries where the quotum is a proportion of the fish population, and  \n",
    "3) any further cases that you find interesting.  \n",
    "\n",
    "Include the effects of:   \n",
    "a) fishing becoming more costly when the population density is lower, and  \n",
    "b) the effect that the price goes up when the fish availability on the market is limited.  \n",
    "\n",
    "Reference: \n",
    "Clark, C.W. (2010) Mathematical bioeconomics: the mathematics of conservation (Vol. 91). John Wiley & Sons.\n"
   ]
  },
  {
   "cell_type": "markdown",
   "metadata": {
    "slideshow": {
     "slide_type": "slide"
    }
   },
   "source": [
    "# Challenge 2: Two-phase mosaics in grazing systems\n",
    "\n",
    "Grazing systems can be very patchy, in the form of the so-called two-phase grazing mosaics. Here, the two phases are either bare soil and vegetated patches alternating, or short grass alternating with dense grasses.  \n",
    "\n",
    "Make a series model that can describe the dynamics of these two systems, comparing various mechanisms.  \n",
    "\n",
    "*Noy-Meir, I. (1975) Stability of grazing systems: An application of the predator—Prey graphs. Journal of Ecology, 63, 459-481.*  \n",
    "\n",
    "*May, R.M. (1977) Thresholds and breakpoints in ecosystems with a multiplicity of stable states. Nature, 269(5628), p.471.*  \n",
    "\n",
    "*Van de Koppel, J., Rietkerk, M. and Weissing, F.J. (1997) Catastrophic vegetation shifts and soil degradation in terrestrial grazing systems. Trends in Ecology & Evolution, 12(9), pp.352-356.*  \n",
    "\n",
    "Additional challenge: include a quality-based mechanism.\n"
   ]
  },
  {
   "cell_type": "markdown",
   "metadata": {
    "slideshow": {
     "slide_type": "slide"
    }
   },
   "source": [
    "# Challenge 3: The logistic map\n",
    "\n",
    "Make a study of chaotic dynamics in a one species discrete-time logistic growth model. An example would be a population of mosquito's. Do a bifurcation analysis in the form of a \"logistic map\". This exercise expands upon the example script \"1 - Logistic growth.ipynb\".\n",
    "\n",
    "Reference: \n",
    "\n",
    "https://en.wikipedia.org/wiki/Logistic_map (actually includes dynamic iPython graphs)\n",
    "\n",
    "May, R.M., (1976) Simple mathematical models with very complicated dynamics. Nature, 261(5560), p.459.\n"
   ]
  },
  {
   "cell_type": "markdown",
   "metadata": {
    "slideshow": {
     "slide_type": "slide"
    }
   },
   "source": [
    "# Challenge 4: Catastrophe theory\n",
    "\n",
    "Take a model with two stable states (possibly a grazing or a fisheries model), and plot a cusp catastroph fold.\n",
    "\n",
    "<img src='https://ars.els-cdn.com/content/image/1-s2.0-S0926580511002317-gr2.jpg' width=\"50%\">\n",
    "\n",
    "Plot two trajectory on the catastrophe fold, one with a critical transition, and one with a non-critical transition.\n",
    "\n",
    "Reference: \n",
    "*Murray, J.D. (2002) Mathematical Biology I: An Introduction, Interdisciplinary Applied Mathematics, Mathematical Biology, see around page 10.*\n"
   ]
  },
  {
   "cell_type": "markdown",
   "metadata": {
    "slideshow": {
     "slide_type": "slide"
    }
   },
   "source": [
    "# Challenge 5: How long does it take to drop to the bottom of the ocean\n",
    "\n",
    "If you would drop a iron ball in the ocean, how long does it take it to drop to the bottom. Also, how long would it take YOU to drop to the bottom of the ocean. Consider a homogeneous ocean (can be done analytically) or a heterogeneous ocean (simulate).\n",
    "\n",
    "Idea: Roeland van der Vijsel"
   ]
  },
  {
   "cell_type": "markdown",
   "metadata": {
    "slideshow": {
     "slide_type": "slide"
    }
   },
   "source": [
    "## The end - Johan van de Koppel - 2018"
   ]
  }
 ],
 "metadata": {
  "celltoolbar": "Slideshow",
  "kernelspec": {
   "display_name": "Python 3",
   "language": "python",
   "name": "python3"
  },
  "language_info": {
   "codemirror_mode": {
    "name": "ipython",
    "version": 3
   },
   "file_extension": ".py",
   "mimetype": "text/x-python",
   "name": "python",
   "nbconvert_exporter": "python",
   "pygments_lexer": "ipython3",
   "version": "3.7.1"
  }
 },
 "nbformat": 4,
 "nbformat_minor": 2
}
