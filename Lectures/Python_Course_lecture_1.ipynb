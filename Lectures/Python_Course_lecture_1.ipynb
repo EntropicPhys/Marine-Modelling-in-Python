{
 "cells": [
  {
   "cell_type": "markdown",
   "metadata": {
    "slideshow": {
     "slide_type": "slide"
    }
   },
   "source": [
    "![Python](https://upload.wikimedia.org/wikipedia/commons/thumb/f/f8/Python_logo_and_wordmark.svg/2000px-Python_logo_and_wordmark.svg.png \"Python\")\n",
    "A course by Johan van de Koppel  \n",
    "September 2018  \n",
    "Royal Netherlands Institute of Sea Research\n",
    "\n",
    "![Console](Images/All_Logos.png \"Console\")"
   ]
  },
  {
   "cell_type": "markdown",
   "metadata": {
    "slideshow": {
     "slide_type": "slide"
    }
   },
   "source": [
    "# Aims of this course\n",
    "- Not a course in programming (OK maybe a little)\n",
    "- Not an alternative to R (OK it could be, but a bad one)\n",
    "- But: A course to explain Python to Matlab users  \n",
    "  => Knowledge of simulation in Matlab is presumed (but not totally)"
   ]
  },
  {
   "cell_type": "markdown",
   "metadata": {
    "slideshow": {
     "slide_type": "slide"
    }
   },
   "source": [
    "# Why Python in stead of Matlab?\n",
    "\n",
    "### Matlab is:\n",
    "- Better organized\n",
    "- Better documented\n",
    "- Faster (slightly)\n",
    "- A licensing headache\n",
    "\n",
    "### Python :\n",
    "- Free for anyone\n",
    "- Free on any computer\n",
    "- Free to develop further\n",
    "- More versatile"
   ]
  },
  {
   "cell_type": "markdown",
   "metadata": {
    "slideshow": {
     "slide_type": "slide"
    }
   },
   "source": [
    "# Disclaimer\n",
    "- I am by no means a expert in Python!\n",
    "\n",
    "- I am learning it as much as you are\n",
    "\n",
    "- Lets learn together!\n",
    "  * Assignments  \n",
    "  * Challenges (make one yourself)  \n",
    "  \n",
    "- Lets build a collection of codes on GitHub or Zeus!"
   ]
  },
  {
   "cell_type": "markdown",
   "metadata": {
    "slideshow": {
     "slide_type": "slide"
    }
   },
   "source": [
    "# Today’s agenda\n",
    "- What is Python\n",
    "- A history of Python\n",
    "- The Development Cycle \n",
    "- Basic Syntax"
   ]
  },
  {
   "cell_type": "markdown",
   "metadata": {
    "slideshow": {
     "slide_type": "slide"
    }
   },
   "source": [
    "# About Python\n",
    "- A scripting language, or script “interpreter”  \n",
    "  (a program, called the “console”, reads your code and executes it)  \n",
    "- Object-oriented (i.e. a modern programming language)  \n",
    "- Indentation for used de separate programming blocks  \n",
    "- Computer-Agnostic (runs on anything that runs python)  "
   ]
  },
  {
   "cell_type": "markdown",
   "metadata": {
    "slideshow": {
     "slide_type": "slide"
    }
   },
   "source": [
    "# Differences between a programming and a scripting language \n",
    "\n",
    "### Programming language\n",
    "- a program is compiled from the code (in machine instructions)\n",
    "- A \"program\" in general, is a sequence of instructions written so that a computer can perform certain task. \n",
    "\n",
    "### Scripting language\n",
    "- a script is interpreted \n",
    "- a \"script\" is code written in a scripting language: a code that is executed by some software application (the - python console). "
   ]
  },
  {
   "cell_type": "markdown",
   "metadata": {
    "slideshow": {
     "slide_type": "slide"
    }
   },
   "source": [
    "<head>\n",
    "<style>\n",
    "table, th, td {\n",
    "    border: 0px solid white;\n",
    "}\n",
    "</style>\n",
    "</head>\n",
    "\n",
    "# A history of Python\n",
    "\n",
    "<img src=\"https://upload.wikimedia.org/wikipedia/commons/thumb/6/66/Guido_van_Rossum_OSCON_2006.jpg/800px-Guido_van_Rossum_OSCON_2006.jpg\" width=\"250\" align=\"center\" />\n",
    "        \n",
    "<ul style=\"font-size:1o0%;\">\n",
    "    <li>Invented in the Netherlands, in the late 80s, by Guido van Rossum</li>\n",
    "    <li>Name comes from ‘Monty Python’s Flying Circus’, a famous 60s-70s TV show</li>\n",
    "    <li>Guido van Rossum called “Benevolent Dictator for Life (BDFL)” by the Python community (wikipedia)</li>\n",
    "</ul>\n"
   ]
  },
  {
   "cell_type": "markdown",
   "metadata": {
    "slideshow": {
     "slide_type": "slide"
    }
   },
   "source": [
    "# Two versions, 2.7 and 3.7 (latest)\n",
    "- As any good scientist should, Guido figured that he didn’t design Python perfectly (and future proof).\n",
    "- In 2008, Python 3.0, a major, backwards-incompatible version, was released.   \n",
    "  * V 2.7: print “Hello World!”\n",
    "  * V 3.x: print(“Hello World!”)\n",
    "\n",
    "- Many didn’t want this, because old code libraries were useless."
   ]
  },
  {
   "cell_type": "markdown",
   "metadata": {
    "slideshow": {
     "slide_type": "slide"
    }
   },
   "source": [
    "# Barebone Python\n",
    "![Console](Images/PythonConsole.png \"Console\")"
   ]
  },
  {
   "cell_type": "markdown",
   "metadata": {
    "slideshow": {
     "slide_type": "slide"
    }
   },
   "source": [
    "# Matlab’s Integrated Development Environment\n",
    "![Console](Images/MatlabIDE.png \"Console\")"
   ]
  },
  {
   "cell_type": "markdown",
   "metadata": {
    "slideshow": {
     "slide_type": "slide"
    }
   },
   "source": [
    "# Spyder\n",
    "![Console](Images/SpyderIDE.png \"Console\")"
   ]
  },
  {
   "cell_type": "markdown",
   "metadata": {
    "slideshow": {
     "slide_type": "slide"
    }
   },
   "source": [
    "# Integrated development environments (IDEs)\n",
    "\n",
    "### Text-editors with code coloring\n",
    "- Vim (very basic)  \n",
    "- Atom  \n",
    "\n",
    "### Basic IDEs  \n",
    "- Idle  \n",
    "- Spyder  \n",
    "\n",
    "### Complex IDE/Environments  \n",
    "- Pycharm (makes new version of python for each project)\n",
    "- PyDev (comes with Eclipse – a Multilanguage system)"
   ]
  },
  {
   "cell_type": "markdown",
   "metadata": {
    "slideshow": {
     "slide_type": "slide"
    }
   },
   "source": [
    "# Environments\n",
    "- You can run multiple versions of Python next to each other\n",
    "- A single copy is called an Environment\n",
    "- Each Python Environment with packages can sit in a folder\n",
    "- You can tell the computer to “activate” another version\n",
    "- Environment/Package management system: pip or conda\n",
    "- To install a package, type in terminal:   \n",
    "    <span style=\"color:blue; font-family:Courier;\">conda install --name myenv numpy</span>  \n",
    "“myenv” is just a name that you give to your environment"
   ]
  },
  {
   "cell_type": "markdown",
   "metadata": {
    "slideshow": {
     "slide_type": "slide"
    }
   },
   "source": [
    "# Anaconda\n",
    "- Anaconda is a package management system with an attached IDE (Spyder) and Notebook system (Jupyter)\n",
    "- It comes with either Python 2.7 or 3.6, but you can install both.\n",
    "- In this course, we will be using Anaconda 5.2 with Python 3.6\n",
    "- https://www.anaconda.com/download\n",
    "- We will use this in this course (it is the most convenient one I know)"
   ]
  },
  {
   "cell_type": "markdown",
   "metadata": {
    "slideshow": {
     "slide_type": "slide"
    }
   },
   "source": [
    "# Anaconda - included applications\n",
    "![Console](Images\\AnacondaEnv.png \"Console\")"
   ]
  },
  {
   "cell_type": "markdown",
   "metadata": {
    "slideshow": {
     "slide_type": "slide"
    }
   },
   "source": [
    "# Anaconda - Package environment\n",
    "![Console](Images\\AnacondaPack.png \"Console\")"
   ]
  },
  {
   "cell_type": "markdown",
   "metadata": {
    "slideshow": {
     "slide_type": "slide"
    }
   },
   "source": [
    "# Python-console versus iPython-console\n",
    "- Python comes with a barebone console for running single commands or entire scripts\n",
    "- iPython (with Jupyter) is a notebook based console with follows the principle: set of commands – printed result, and does so within a notebook document. It is similar to Mathematica & Latech.\n",
    "\n",
    "- iPython can not run animated simulations. It first simulates, and then produces a result (figure or movie)."
   ]
  },
  {
   "cell_type": "markdown",
   "metadata": {
    "slideshow": {
     "slide_type": "slide"
    }
   },
   "source": [
    "# Python executes from the console\n",
    "![Console](Images\\AnacondaMussels.png \"Console\")"
   ]
  },
  {
   "cell_type": "markdown",
   "metadata": {
    "slideshow": {
     "slide_type": "slide"
    }
   },
   "source": [
    "# Python executes from the console\n",
    "![Console](Images\\AnacondaMusselsR.png \"Console\")"
   ]
  },
  {
   "cell_type": "markdown",
   "metadata": {
    "slideshow": {
     "slide_type": "slide"
    }
   },
   "source": [
    "# iPython runs in a Jupyter notebook\n",
    "First you give a piece of code in the notebook, and then iPython interprets it and gives the result."
   ]
  },
  {
   "cell_type": "code",
   "execution_count": 1,
   "metadata": {},
   "outputs": [],
   "source": [
    "# Importing the packages\n",
    "import numpy as np\n",
    "from matplotlib import pyplot as plt"
   ]
  },
  {
   "cell_type": "code",
   "execution_count": 2,
   "metadata": {},
   "outputs": [
    {
     "data": {
      "image/png": "[encoded data removed]",
      "text/plain": [
       "<matplotlib.figure.Figure at 0x112a68860>"
      ]
     },
     "metadata": {},
     "output_type": "display_data"
    }
   ],
   "source": [
    "# Calculating and plotting y=sin(x^2)\n",
    "x = np.linspace(0, 3, 100)\n",
    "y = np.sin(x*x)\n",
    "f=plt.plot(x,y)"
   ]
  },
  {
   "cell_type": "markdown",
   "metadata": {
    "slideshow": {
     "slide_type": "slide"
    }
   },
   "source": [
    "# Packages\n",
    "- Most code functions sit in Packages or Modules\n",
    "- Often used packages for numerical computing\n",
    "  * numpy – Numerical operations on array operation\n",
    "  * scipy – Many mathematical functions\n",
    "  * Matplotlib – plotting functions\n",
    "\n",
    "- Overview: https://wiki.python.org/moin/UsefulModules\n"
   ]
  },
  {
   "cell_type": "markdown",
   "metadata": {
    "slideshow": {
     "slide_type": "slide"
    }
   },
   "source": [
    "# Importing a package\n",
    "You can import packages containing collections of functions, also called modules, into your code, often allowing you to do a specialized set of operations. One example is the NumPy package (from Numerical Python), that allows you to define arrays and do all sorts of array operations.\n",
    "There are a number of ways to load a package. One way is to load it as a so-called \"object\", which puts the functions that are important in a enclosed block (i.e. object):"
   ]
  },
  {
   "cell_type": "code",
   "execution_count": 1,
   "metadata": {
    "slideshow": {
     "slide_type": "-"
    }
   },
   "outputs": [
    {
     "name": "stdout",
     "output_type": "stream",
     "text": [
      "4.0\n"
     ]
    }
   ],
   "source": [
    "import numpy as np\n",
    "A = np.sqrt(16)\n",
    "print(A)"
   ]
  },
  {
   "cell_type": "markdown",
   "metadata": {
    "slideshow": {
     "slide_type": "-"
    }
   },
   "source": [
    "You can also just load all the functions into the common \"namespace\", so that they can be used directly. A disadvantage is that separate packages can use the same name, creating a conflict."
   ]
  },
  {
   "cell_type": "code",
   "execution_count": 2,
   "metadata": {
    "slideshow": {
     "slide_type": "-"
    }
   },
   "outputs": [
    {
     "name": "stdout",
     "output_type": "stream",
     "text": [
      "4.0\n"
     ]
    }
   ],
   "source": [
    "from numpy import *\n",
    "A = sqrt(16)\n",
    "print(A)"
   ]
  },
  {
   "cell_type": "markdown",
   "metadata": {
    "slideshow": {
     "slide_type": "slide"
    }
   },
   "source": [
    "# Installing a package\n",
    "- Very few packages are installed with standard Python\n",
    "- Anaconda does install a lot of packages at install (numpy, scipy, matplotlib, etc)\n",
    "- You can install more from within the Anaconda Navigator\n",
    "- If you want an odd package, you need to install it via the Terminal (Mac OS, Linux) or Command Prompt (Windows)\n",
    "- for this, type in google: conda install \"package name\" for explanation\n",
    "- Or go to: https://anaconda.org"
   ]
  },
  {
   "cell_type": "markdown",
   "metadata": {
    "slideshow": {
     "slide_type": "slide"
    }
   },
   "source": [
    "# Variables and types\n"
   ]
  },
  {
   "cell_type": "markdown",
   "metadata": {},
   "source": [
    "In many programming languages, you define *variables*, and then work with these variables to get things done. There are various *types* of variables, and these so-called types we explain here:"
   ]
  },
  {
   "cell_type": "code",
   "execution_count": 2,
   "metadata": {},
   "outputs": [],
   "source": [
    "a = 2         # a is of type integer: discrete numbers used for counting\n",
    "b = 1.3       # b is of type float, meaning it can contain continuous variables\n",
    "c = \"Hallo\"   # c is of type string, containing a letter or sentence\n",
    "d = True      # d is of type Boolean, either True or False, used for testing\n",
    "e = [0, 2]    # e is a list, containing numbers. It is NOT an array or matrix \n",
    "f = [1, \"no\"] # f is also a list"
   ]
  },
  {
   "cell_type": "markdown",
   "metadata": {
    "slideshow": {
     "slide_type": "slide"
    }
   },
   "source": [
    "# Operations with variables"
   ]
  },
  {
   "cell_type": "code",
   "execution_count": 3,
   "metadata": {},
   "outputs": [
    {
     "data": {
      "text/plain": [
       "2.6"
      ]
     },
     "execution_count": 3,
     "metadata": {},
     "output_type": "execute_result"
    }
   ],
   "source": [
    "a*b"
   ]
  },
  {
   "cell_type": "code",
   "execution_count": 4,
   "metadata": {},
   "outputs": [
    {
     "name": "stdout",
     "output_type": "stream",
     "text": [
      "Hallo John\n"
     ]
    }
   ],
   "source": [
    "print(c + \" John\")"
   ]
  },
  {
   "cell_type": "code",
   "execution_count": 5,
   "metadata": {},
   "outputs": [
    {
     "data": {
      "text/plain": [
       "'Hallo 2'"
      ]
     },
     "execution_count": 5,
     "metadata": {},
     "output_type": "execute_result"
    }
   ],
   "source": [
    "c + \" \" + str(a)"
   ]
  },
  {
   "cell_type": "code",
   "execution_count": 6,
   "metadata": {},
   "outputs": [
    {
     "data": {
      "text/plain": [
       "'HalloHalloHallo'"
      ]
     },
     "execution_count": 6,
     "metadata": {},
     "output_type": "execute_result"
    }
   ],
   "source": [
    "c*3"
   ]
  },
  {
   "cell_type": "code",
   "execution_count": 12,
   "metadata": {},
   "outputs": [
    {
     "data": {
      "text/plain": [
       "'Hallo Hallo Hallo '"
      ]
     },
     "execution_count": 12,
     "metadata": {},
     "output_type": "execute_result"
    }
   ],
   "source": [
    "(c+\" \")*3"
   ]
  },
  {
   "cell_type": "markdown",
   "metadata": {
    "slideshow": {
     "slide_type": "slide"
    }
   },
   "source": [
    "## Oddities with strings"
   ]
  },
  {
   "cell_type": "code",
   "execution_count": 13,
   "metadata": {
    "slideshow": {
     "slide_type": "-"
    }
   },
   "outputs": [],
   "source": [
    "word = 'NIOZ'"
   ]
  },
  {
   "cell_type": "code",
   "execution_count": 14,
   "metadata": {},
   "outputs": [
    {
     "data": {
      "text/plain": [
       "'O'"
      ]
     },
     "execution_count": 14,
     "metadata": {},
     "output_type": "execute_result"
    }
   ],
   "source": [
    "word[2]"
   ]
  },
  {
   "cell_type": "code",
   "execution_count": 18,
   "metadata": {},
   "outputs": [
    {
     "data": {
      "text/plain": [
       "'Z'"
      ]
     },
     "execution_count": 18,
     "metadata": {},
     "output_type": "execute_result"
    }
   ],
   "source": [
    "word[-1]"
   ]
  },
  {
   "cell_type": "code",
   "execution_count": 22,
   "metadata": {},
   "outputs": [
    {
     "data": {
      "text/plain": [
       "'NI'"
      ]
     },
     "execution_count": 22,
     "metadata": {},
     "output_type": "execute_result"
    }
   ],
   "source": [
    "word[0:2]"
   ]
  },
  {
   "cell_type": "code",
   "execution_count": 25,
   "metadata": {},
   "outputs": [
    {
     "data": {
      "text/plain": [
       "'IOZ'"
      ]
     },
     "execution_count": 25,
     "metadata": {},
     "output_type": "execute_result"
    }
   ],
   "source": [
    "word[1:]"
   ]
  },
  {
   "cell_type": "code",
   "execution_count": 29,
   "metadata": {},
   "outputs": [
    {
     "data": {
      "text/plain": [
       "'NIOO'"
      ]
     },
     "execution_count": 29,
     "metadata": {},
     "output_type": "execute_result"
    }
   ],
   "source": [
    "word[0:3]+'O'"
   ]
  },
  {
   "cell_type": "markdown",
   "metadata": {},
   "source": [
    "More about Strings, click [here](https://docs.python.org/3/tutorial/introduction.html#strings) to look at the Python Tutorial."
   ]
  },
  {
   "cell_type": "markdown",
   "metadata": {
    "slideshow": {
     "slide_type": "slide"
    }
   },
   "source": [
    "# Lists"
   ]
  },
  {
   "cell_type": "markdown",
   "metadata": {},
   "source": [
    "A list of comma-separated *items* between square brackets. Lists might have items of different types!"
   ]
  },
  {
   "cell_type": "code",
   "execution_count": 33,
   "metadata": {},
   "outputs": [],
   "source": [
    "squares = [1, 4, 9, 16, 25]"
   ]
  },
  {
   "cell_type": "code",
   "execution_count": 38,
   "metadata": {},
   "outputs": [],
   "source": [
    "Items = [1, 3.1, 'String', True]"
   ]
  },
  {
   "cell_type": "code",
   "execution_count": 40,
   "metadata": {},
   "outputs": [
    {
     "data": {
      "text/plain": [
       "[1, 4, 9, 16, 25, 3, 5, 2, 5, 3, 5, 2, 5, -1]"
      ]
     },
     "execution_count": 40,
     "metadata": {},
     "output_type": "execute_result"
    }
   ],
   "source": [
    "squares + [3, 5, 2, 5, -1]"
   ]
  },
  {
   "cell_type": "code",
   "execution_count": 39,
   "metadata": {},
   "outputs": [
    {
     "data": {
      "text/plain": [
       "[1, 3.1, 'String', True, 1, 3.1, 'String', True]"
      ]
     },
     "execution_count": 39,
     "metadata": {},
     "output_type": "execute_result"
    }
   ],
   "source": [
    "Items*2"
   ]
  },
  {
   "cell_type": "markdown",
   "metadata": {
    "slideshow": {
     "slide_type": "slide"
    }
   },
   "source": [
    "# Arrays, vectors and matrices"
   ]
  },
  {
   "cell_type": "markdown",
   "metadata": {},
   "source": [
    "There is no build-in support for arrays in Python. This ability comes from a package called `Numpy`. Numpy allows you to define vectors (1D), matrices (2D) and larger arrays and calculate with them. Also, it contains a hugh collection of computational functions.\n",
    "\n",
    "`Numpy` has to be loaded as a package, and then an array can be defined:"
   ]
  },
  {
   "cell_type": "code",
   "execution_count": 5,
   "metadata": {},
   "outputs": [
    {
     "data": {
      "text/plain": [
       "array([[0., 0., 0.],\n",
       "       [0., 0., 0.],\n",
       "       [0., 0., 0.]])"
      ]
     },
     "execution_count": 5,
     "metadata": {},
     "output_type": "execute_result"
    }
   ],
   "source": [
    "import numpy as np\n",
    "A=np.zeros([3,3])\n",
    "A"
   ]
  },
  {
   "cell_type": "markdown",
   "metadata": {},
   "source": [
    "Or, you can assign the values from a list"
   ]
  },
  {
   "cell_type": "code",
   "execution_count": 8,
   "metadata": {},
   "outputs": [
    {
     "data": {
      "text/plain": [
       "array([[1, 2, 3],\n",
       "       [4, 5, 6],\n",
       "       [7, 8, 9]])"
      ]
     },
     "execution_count": 8,
     "metadata": {},
     "output_type": "execute_result"
    }
   ],
   "source": [
    "A=np.array([[1,2,3],[4,5,6],[7,8,9]])\n",
    "A"
   ]
  },
  {
   "cell_type": "markdown",
   "metadata": {
    "slideshow": {
     "slide_type": "slide"
    }
   },
   "source": [
    "With these, you can compute:"
   ]
  },
  {
   "cell_type": "code",
   "execution_count": 10,
   "metadata": {},
   "outputs": [
    {
     "data": {
      "text/plain": [
       "array([[ 2,  4,  6],\n",
       "       [ 8, 10, 12],\n",
       "       [14, 16, 18]])"
      ]
     },
     "execution_count": 10,
     "metadata": {},
     "output_type": "execute_result"
    }
   ],
   "source": [
    "A*2"
   ]
  },
  {
   "cell_type": "markdown",
   "metadata": {},
   "source": [
    "Or use in a spatial model:"
   ]
  },
  {
   "cell_type": "code",
   "execution_count": 11,
   "metadata": {},
   "outputs": [
    {
     "data": {
      "text/plain": [
       "array([[1.9, 3.6, 5.1],\n",
       "       [6.4, 7.5, 8.4],\n",
       "       [9.1, 9.6, 9.9]])"
      ]
     },
     "execution_count": 11,
     "metadata": {},
     "output_type": "execute_result"
    }
   ],
   "source": [
    "dA_dt=(1-A/10.0)*A\n",
    "A+dA_dt"
   ]
  },
  {
   "cell_type": "markdown",
   "metadata": {},
   "source": [
    "For more, look at the Numpy website: http://www.numpy.org"
   ]
  },
  {
   "cell_type": "markdown",
   "metadata": {
    "slideshow": {
     "slide_type": "slide"
    }
   },
   "source": [
    "# Classes - Object orientation in Python\n",
    "- Classes provide a means of bundling data and methods (function, procedure). \n",
    "- Creating a new class creates a new type of object, allowing new instances of that type to be made."
   ]
  },
  {
   "cell_type": "code",
   "execution_count": 1,
   "metadata": {},
   "outputs": [],
   "source": [
    "class Mussel:\n",
    "    x=0\n",
    "    y=0"
   ]
  },
  {
   "cell_type": "code",
   "execution_count": 2,
   "metadata": {},
   "outputs": [
    {
     "name": "stdout",
     "output_type": "stream",
     "text": [
      "The mussels is at location 0.0,0.0\n"
     ]
    }
   ],
   "source": [
    "M=Mussel()\n",
    "print('The mussels is at location %1.1f,%1.1f' % (M.x,M.y) )"
   ]
  },
  {
   "cell_type": "code",
   "execution_count": 3,
   "metadata": {},
   "outputs": [],
   "source": [
    "import numpy as np\n",
    "class Mussel:\n",
    "    def __init__(self):   # the is a 'method' called when a Mussel is defined\n",
    "        self.x=np.random.rand(1)\n",
    "        self.y=np.random.rand(1)"
   ]
  },
  {
   "cell_type": "code",
   "execution_count": 4,
   "metadata": {
    "slideshow": {
     "slide_type": "-"
    }
   },
   "outputs": [
    {
     "name": "stdout",
     "output_type": "stream",
     "text": [
      "The mussels is at location 0.44,0.23\n"
     ]
    }
   ],
   "source": [
    "M=Mussel()\n",
    "print('The mussels is at location %1.2f,%1.2f' % (M.x,M.y) )"
   ]
  },
  {
   "cell_type": "code",
   "execution_count": 5,
   "metadata": {
    "slideshow": {
     "slide_type": "subslide"
    }
   },
   "outputs": [],
   "source": [
    "import numpy as np\n",
    "class Mussel:\n",
    "    def __init__(self):   # this is a 'method' called when a Mussel is defined\n",
    "        self.x=np.random.rand(1)\n",
    "        self.y=np.random.rand(1)\n",
    "    def distance(self):   # this is a callible 'method' \n",
    "        return np.sqrt(self.x**2+self.y**2)"
   ]
  },
  {
   "cell_type": "code",
   "execution_count": 6,
   "metadata": {},
   "outputs": [
    {
     "name": "stdout",
     "output_type": "stream",
     "text": [
      "The mussels is at location 0.38,0.41, which is at 0.56 cm van the origin\n"
     ]
    }
   ],
   "source": [
    "M=Mussel()\n",
    "print('The mussels is at location %1.2f,%1.2f, which is at %1.2f cm van the origin' % (M.x,M.y,M.distance()) )"
   ]
  },
  {
   "cell_type": "markdown",
   "metadata": {
    "slideshow": {
     "slide_type": "slide"
    }
   },
   "source": [
    "### Many Python types are actually a class with all sorts of build in methods"
   ]
  },
  {
   "cell_type": "code",
   "execution_count": 7,
   "metadata": {},
   "outputs": [],
   "source": [
    "S='This a really really really long string'"
   ]
  },
  {
   "cell_type": "code",
   "execution_count": 8,
   "metadata": {},
   "outputs": [
    {
     "data": {
      "text/plain": [
       "str"
      ]
     },
     "execution_count": 8,
     "metadata": {},
     "output_type": "execute_result"
    }
   ],
   "source": [
    "type(S)"
   ]
  },
  {
   "cell_type": "code",
   "execution_count": 9,
   "metadata": {},
   "outputs": [
    {
     "data": {
      "text/plain": [
       "39"
      ]
     },
     "execution_count": 9,
     "metadata": {},
     "output_type": "execute_result"
    }
   ],
   "source": [
    "S.__len__()"
   ]
  },
  {
   "cell_type": "code",
   "execution_count": 10,
   "metadata": {},
   "outputs": [
    {
     "data": {
      "text/plain": [
       "'THIS A REALLY REALLY REALLY LONG STRING'"
      ]
     },
     "execution_count": 10,
     "metadata": {},
     "output_type": "execute_result"
    }
   ],
   "source": [
    "S.upper()"
   ]
  },
  {
   "cell_type": "markdown",
   "metadata": {},
   "source": [
    "To know more about the Methods associated with `str` and other standard types, see: https://docs.python.org/3/library/stdtypes.html"
   ]
  },
  {
   "cell_type": "markdown",
   "metadata": {
    "slideshow": {
     "slide_type": "slide"
    }
   },
   "source": [
    "# Condition testing: the `if` statement"
   ]
  },
  {
   "cell_type": "code",
   "execution_count": 35,
   "metadata": {
    "slideshow": {
     "slide_type": "-"
    }
   },
   "outputs": [],
   "source": [
    "x = 5.1 # Just assign a number"
   ]
  },
  {
   "cell_type": "code",
   "execution_count": 39,
   "metadata": {},
   "outputs": [
    {
     "name": "stdout",
     "output_type": "stream",
     "text": [
      "More than one!\n"
     ]
    }
   ],
   "source": [
    "if x < 0:\n",
    "    x = 0\n",
    "    print('Negative changed to zero.')\n",
    "elif x == 0:\n",
    "    print('Zero is nothing ...')\n",
    "elif x == 1:\n",
    "    print('Yes one is enough!')\n",
    "else:\n",
    "    print('More than one!')"
   ]
  },
  {
   "cell_type": "markdown",
   "metadata": {
    "slideshow": {
     "slide_type": "slide"
    }
   },
   "source": [
    "# Loops and conditions\n",
    "Loop are an important part of computing. Algoritms are repeated on new data, or repeated (iterated) on the same data.  \n",
    "In classical computing, a loop repeated with increasing some counter (here a MATLAB example):  \n",
    "  \n",
    "`for i=1:5\n",
    "    disp(i);\n",
    "end\n",
    "`"
   ]
  },
  {
   "cell_type": "markdown",
   "metadata": {},
   "source": [
    "In Python:"
   ]
  },
  {
   "cell_type": "code",
   "execution_count": 11,
   "metadata": {},
   "outputs": [
    {
     "name": "stdout",
     "output_type": "stream",
     "text": [
      "0\n",
      "1\n",
      "2\n",
      "3\n",
      "4\n"
     ]
    }
   ],
   "source": [
    "for i in range(5):\n",
    "    print(i)"
   ]
  },
  {
   "cell_type": "markdown",
   "metadata": {
    "slideshow": {
     "slide_type": "subslide"
    }
   },
   "source": [
    "In Python, a loop will iterate a **list**, *any list!*"
   ]
  },
  {
   "cell_type": "code",
   "execution_count": 12,
   "metadata": {},
   "outputs": [
    {
     "name": "stdout",
     "output_type": "stream",
     "text": [
      "<class 'int'>\n",
      "<class 'float'>\n",
      "<class 'str'>\n",
      "<class 'bool'>\n"
     ]
    }
   ],
   "source": [
    "for i in [2,4.5,'Hallo', True]:\n",
    "    print( type(i) )"
   ]
  },
  {
   "cell_type": "markdown",
   "metadata": {
    "slideshow": {
     "slide_type": "slide"
    }
   },
   "source": [
    "# A nested loop over a unstructured list\n",
    "Imagine a nested database of names, with 3 female and 4 male names. "
   ]
  },
  {
   "cell_type": "code",
   "execution_count": 75,
   "metadata": {},
   "outputs": [],
   "source": [
    "Department=[['Yvette','Olga', 'Renee'],['Daan','Geert', 'Roland','Leo']]"
   ]
  },
  {
   "cell_type": "markdown",
   "metadata": {},
   "source": [
    "You can print all using a nested loop:"
   ]
  },
  {
   "cell_type": "code",
   "execution_count": 76,
   "metadata": {},
   "outputs": [
    {
     "name": "stdout",
     "output_type": "stream",
     "text": [
      "['Yvette', 'Olga', 'Renee']\n",
      "['Daan', 'Geert', 'Roland', 'Leo']\n"
     ]
    }
   ],
   "source": [
    "for Group in Department:\n",
    "    print(Group)"
   ]
  },
  {
   "cell_type": "code",
   "execution_count": 74,
   "metadata": {},
   "outputs": [
    {
     "name": "stdout",
     "output_type": "stream",
     "text": [
      "Yvette\n",
      "Olga\n",
      "Renee\n",
      "Daan\n",
      "Geert\n",
      "Roland\n",
      "Leo\n"
     ]
    }
   ],
   "source": [
    "for Group in Department:\n",
    "    for Names in Group:\n",
    "        print(Names)"
   ]
  },
  {
   "cell_type": "markdown",
   "metadata": {
    "slideshow": {
     "slide_type": "slide"
    }
   },
   "source": [
    "### So what if you want the item and a counter at the same time? "
   ]
  },
  {
   "cell_type": "code",
   "execution_count": 23,
   "metadata": {},
   "outputs": [
    {
     "name": "stdout",
     "output_type": "stream",
     "text": [
      "Group 0\n",
      " 0 - Yvette\n",
      " 1 - Olga\n",
      " 2 - Renee\n",
      "Group 1\n",
      " 0 - Daan\n",
      " 1 - Geert\n",
      " 2 - Roland\n",
      " 3 - Leo\n"
     ]
    }
   ],
   "source": [
    "for i,Group in enumerate(Department):\n",
    "    print('Group ' + str(i))\n",
    "    for j,Names in enumerate(Group):\n",
    "        print(' ' + str(j) + ' - ' + Names)"
   ]
  },
  {
   "cell_type": "markdown",
   "metadata": {
    "slideshow": {
     "slide_type": "slide"
    }
   },
   "source": [
    "# A conditional loop\n",
    "Sometimes you don't want a loop to run a specific number of times, but rather until a condition is met. For this, there is the `while` loop:"
   ]
  },
  {
   "cell_type": "code",
   "execution_count": 27,
   "metadata": {},
   "outputs": [
    {
     "name": "stdout",
     "output_type": "stream",
     "text": [
      "0\n",
      "1\n",
      "2\n",
      "3\n",
      "4\n"
     ]
    }
   ],
   "source": [
    "i=0\n",
    "while i<5:\n",
    "    print(i)\n",
    "    i=i+1"
   ]
  },
  {
   "cell_type": "markdown",
   "metadata": {
    "slideshow": {
     "slide_type": "slide"
    }
   },
   "source": [
    "## `break` and `continue` statements\n",
    "`break` stops the loop entirely."
   ]
  },
  {
   "cell_type": "code",
   "execution_count": 32,
   "metadata": {},
   "outputs": [
    {
     "name": "stdout",
     "output_type": "stream",
     "text": [
      "0\n",
      "1\n",
      "2\n"
     ]
    }
   ],
   "source": [
    "for i in range(5):\n",
    "    if i==3:\n",
    "        break\n",
    "    print(i)"
   ]
  },
  {
   "cell_type": "markdown",
   "metadata": {},
   "source": [
    "`continue` skips the current iteration and goes to the next."
   ]
  },
  {
   "cell_type": "code",
   "execution_count": 34,
   "metadata": {},
   "outputs": [
    {
     "name": "stdout",
     "output_type": "stream",
     "text": [
      "0\n",
      "1\n",
      "2\n",
      "4\n"
     ]
    }
   ],
   "source": [
    "for i in range(5):\n",
    "    if i==3:\n",
    "        continue\n",
    "    print(i)"
   ]
  },
  {
   "cell_type": "markdown",
   "metadata": {
    "slideshow": {
     "slide_type": "slide"
    }
   },
   "source": [
    "# Functions\n",
    "In Python, you can define your own procedures (do not return a value) and functions (returns a value):"
   ]
  },
  {
   "cell_type": "code",
   "execution_count": 44,
   "metadata": {},
   "outputs": [],
   "source": [
    "def Fibonacci(n):    # write Fibonacci series up to n\n",
    "    \"\"\"Print a Fibonacci series up to n.\"\"\"\n",
    "    a, b = 0, 1\n",
    "    while a < n:\n",
    "        print(a),\n",
    "        a, b = b, a+b"
   ]
  },
  {
   "cell_type": "code",
   "execution_count": 52,
   "metadata": {},
   "outputs": [
    {
     "name": "stdout",
     "output_type": "stream",
     "text": [
      "0\n",
      "1\n",
      "1\n",
      "2\n",
      "3\n",
      "5\n",
      "8\n",
      "13\n"
     ]
    }
   ],
   "source": [
    "Fibonacci(20)"
   ]
  },
  {
   "cell_type": "code",
   "execution_count": 48,
   "metadata": {
    "slideshow": {
     "slide_type": "slide"
    }
   },
   "outputs": [],
   "source": [
    "def dN_dt(N):           # A function for the logistic growth equation\n",
    "    return (1-N)*N"
   ]
  },
  {
   "cell_type": "code",
   "execution_count": 50,
   "metadata": {},
   "outputs": [
    {
     "data": {
      "text/plain": [
       "0.24"
      ]
     },
     "execution_count": 50,
     "metadata": {},
     "output_type": "execute_result"
    }
   ],
   "source": [
    "dN_dt(0.6)"
   ]
  },
  {
   "cell_type": "code",
   "execution_count": 54,
   "metadata": {},
   "outputs": [
    {
     "data": {
      "text/plain": [
       "22"
      ]
     },
     "execution_count": 54,
     "metadata": {},
     "output_type": "execute_result"
    }
   ],
   "source": [
    "def Product(X,Y):           # A function for the logistic growth equation\n",
    "    return X*Y\n",
    "\n",
    "10 + Product(4,3)"
   ]
  },
  {
   "cell_type": "markdown",
   "metadata": {
    "slideshow": {
     "slide_type": "slide"
    }
   },
   "source": [
    "# Plotting\n",
    "\n",
    "If you want to plot something in Python, you first have to load a plotting library (or package). The most commonly used library is `Matplotlib', which contains many MATLAB like plotting functions. So first, we have to load Matplotlib"
   ]
  },
  {
   "cell_type": "code",
   "execution_count": 65,
   "metadata": {},
   "outputs": [],
   "source": [
    "import matplotlib.pyplot as plt\n",
    "import numpy as np\n",
    "%matplotlib inline"
   ]
  },
  {
   "cell_type": "markdown",
   "metadata": {},
   "source": [
    "Define some variables to plot:"
   ]
  },
  {
   "cell_type": "code",
   "execution_count": 67,
   "metadata": {},
   "outputs": [],
   "source": [
    "N=np.linspace(0,1,100)  # a series of numbers from 0 to 1 in 100 steps\n",
    "dN=dN_dt(N)"
   ]
  },
  {
   "cell_type": "markdown",
   "metadata": {
    "slideshow": {
     "slide_type": "slide"
    }
   },
   "source": [
    "### Then open a figure:"
   ]
  },
  {
   "cell_type": "code",
   "execution_count": 71,
   "metadata": {},
   "outputs": [
    {
     "data": {
      "image/png": "[encoded data removed]",
      "text/plain": [
       "<matplotlib.figure.Figure at 0x11c0d6da0>"
      ]
     },
     "metadata": {},
     "output_type": "display_data"
    }
   ],
   "source": [
    "fig, ax = plt.subplots(1, 1, figsize=(8, 6))\n",
    "f=ax.plot(N,dN,'b-')\n",
    "f=ax.set_xlabel('Population size N')\n",
    "f=ax.set_ylabel('Population growth rate')"
   ]
  },
  {
   "cell_type": "markdown",
   "metadata": {
    "slideshow": {
     "slide_type": "slide"
    }
   },
   "source": [
    "<img src='Images/Matplotlib_Gallery.png' width=90%>"
   ]
  },
  {
   "cell_type": "markdown",
   "metadata": {
    "slideshow": {
     "slide_type": "slide"
    }
   },
   "source": [
    "# This course\n",
    "1 Introduction to programming in Python and iPython  \n",
    "2 ODE models  \n",
    "3 Spatial models  \n",
    "4 IBM models  "
   ]
  },
  {
   "cell_type": "markdown",
   "metadata": {
    "slideshow": {
     "slide_type": "slide"
    }
   },
   "source": [
    "# Practical for today\n",
    "\n",
    "### Test Spyder\n",
    "- Install Anaconda\n",
    "- Open Spyder\n",
    "- Choose the Python console\n",
    "- Run a small program\n",
    "- Run a program in the Python console and in the iPython console\n",
    "\n",
    "### Test Jupyter\n",
    "- Activate Jupyter\n",
    "- Add a line of code\n",
    "- Add a markdown line\n",
    "- Add a simple figure"
   ]
  },
  {
   "cell_type": "code",
   "execution_count": 13,
   "metadata": {},
   "outputs": [
    {
     "data": {
      "text/plain": [
       "'/Users/johank/Simulations/Jupyter/Python_Course'"
      ]
     },
     "execution_count": 13,
     "metadata": {},
     "output_type": "execute_result"
    }
   ],
   "source": [
    "pwd"
   ]
  }
 ],
 "metadata": {
  "celltoolbar": "Slideshow",
  "kernelspec": {
   "display_name": "Python 3",
   "language": "python",
   "name": "python3"
  },
  "language_info": {
   "codemirror_mode": {
    "name": "ipython",
    "version": 3
   },
   "file_extension": ".py",
   "mimetype": "text/x-python",
   "name": "python",
   "nbconvert_exporter": "python",
   "pygments_lexer": "ipython3",
   "version": "3.6.4"
  }
 },
 "nbformat": 4,
 "nbformat_minor": 2
}
